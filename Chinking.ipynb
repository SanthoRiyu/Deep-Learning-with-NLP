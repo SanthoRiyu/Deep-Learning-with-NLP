{
 "cells": [
  {
   "cell_type": "code",
   "execution_count": 1,
   "metadata": {},
   "outputs": [],
   "source": [
    "import nltk\n",
    "from nltk.tokenize import word_tokenize"
   ]
  },
  {
   "cell_type": "code",
   "execution_count": 4,
   "metadata": {},
   "outputs": [],
   "source": [
    "sent = \"\"\"We are going to chink this sentence to remove all nouns. All of the other words will be ther. Except for the nouns\"\"\""
   ]
  },
  {
   "cell_type": "code",
   "execution_count": 6,
   "metadata": {},
   "outputs": [
    {
     "name": "stdout",
     "output_type": "stream",
     "text": [
      "[('We', 'PRP'), ('are', 'VBP'), ('going', 'VBG'), ('to', 'TO'), ('chink', 'VB'), ('this', 'DT'), ('sentence', 'NN'), ('to', 'TO'), ('remove', 'VB'), ('all', 'DT'), ('nouns', 'NNS'), ('.', '.'), ('All', 'DT'), ('of', 'IN'), ('the', 'DT'), ('other', 'JJ'), ('words', 'NNS'), ('will', 'MD'), ('be', 'VB'), ('ther', 'RB'), ('.', '.'), ('Except', 'IN'), ('for', 'IN'), ('the', 'DT'), ('nouns', 'NNS')]\n"
     ]
    }
   ],
   "source": [
    "print(nltk.pos_tag(nltk.word_tokenize(sent)))"
   ]
  },
  {
   "cell_type": "code",
   "execution_count": 7,
   "metadata": {},
   "outputs": [],
   "source": [
    "chunkRule = r\"Chunk: {<.*>+}\""
   ]
  },
  {
   "cell_type": "code",
   "execution_count": 8,
   "metadata": {},
   "outputs": [],
   "source": [
    "chunkParser = nltk.RegexpParser(chunkRule)\n",
    "chunksent = chunkParser.parse(nltk.pos_tag(word_tokenize(sent)))"
   ]
  },
  {
   "cell_type": "code",
   "execution_count": 9,
   "metadata": {},
   "outputs": [],
   "source": [
    "chunksent.draw()"
   ]
  },
  {
   "cell_type": "code",
   "execution_count": 11,
   "metadata": {},
   "outputs": [],
   "source": [
    "chunkRule = r\"\"\"Chunk: {<.*>+}\n",
    "                        }<NN.?|NNS|NNP|NNPS>+{\"\"\""
   ]
  },
  {
   "cell_type": "code",
   "execution_count": 12,
   "metadata": {},
   "outputs": [],
   "source": [
    "chunkParser = nltk.RegexpParser(chunkRule)\n",
    "chunksent = chunkParser.parse(nltk.pos_tag(word_tokenize(sent)))\n",
    "chunksent.draw()"
   ]
  },
  {
   "cell_type": "code",
   "execution_count": 13,
   "metadata": {},
   "outputs": [],
   "source": [
    "chunkRule = r\"\"\"Chunk: {<.*>+}\n",
    "                        }<VB.?|VBP|VBG>+{\"\"\"\n",
    "chunkParser = nltk.RegexpParser(chunkRule)\n",
    "chunksent = chunkParser.parse(nltk.pos_tag(word_tokenize(sent)))\n",
    "chunksent.draw()"
   ]
  },
  {
   "cell_type": "code",
   "execution_count": null,
   "metadata": {},
   "outputs": [],
   "source": []
  }
 ],
 "metadata": {
  "kernelspec": {
   "display_name": "Python 3",
   "language": "python",
   "name": "python3"
  },
  "language_info": {
   "codemirror_mode": {
    "name": "ipython",
    "version": 3
   },
   "file_extension": ".py",
   "mimetype": "text/x-python",
   "name": "python",
   "nbconvert_exporter": "python",
   "pygments_lexer": "ipython3",
   "version": "3.6.3"
  }
 },
 "nbformat": 4,
 "nbformat_minor": 2
}
