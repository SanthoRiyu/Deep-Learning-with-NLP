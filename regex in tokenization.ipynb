{
 "cells": [
  {
   "cell_type": "code",
   "execution_count": 17,
   "metadata": {},
   "outputs": [],
   "source": [
    "import nltk\n",
    "from nltk.tokenize import word_tokenize\n",
    "from nltk.tag import pos_tag\n",
    "ex = 'The big yellow bird flew over the house'\n",
    "ex1 ='Her big yellow bird flew over the house'\n",
    "ex3 = 'Sammie gave me her favorite book'"
   ]
  },
  {
   "cell_type": "code",
   "execution_count": 18,
   "metadata": {},
   "outputs": [],
   "source": [
    "def preprocess(sent):\n",
    "    sent = nltk.word_tokenize(sent)\n",
    "    sent = nltk.pos_tag(sent)\n",
    "    return sent"
   ]
  },
  {
   "cell_type": "code",
   "execution_count": 19,
   "metadata": {},
   "outputs": [
    {
     "data": {
      "text/plain": [
       "([('The', 'DT'),\n",
       "  ('big', 'JJ'),\n",
       "  ('yellow', 'JJ'),\n",
       "  ('bird', 'NN'),\n",
       "  ('flew', 'VBD'),\n",
       "  ('over', 'IN'),\n",
       "  ('the', 'DT'),\n",
       "  ('house', 'NN')],\n",
       " [('Her', 'PRP$'),\n",
       "  ('big', 'JJ'),\n",
       "  ('yellow', 'JJ'),\n",
       "  ('bird', 'NN'),\n",
       "  ('flew', 'VBD'),\n",
       "  ('over', 'IN'),\n",
       "  ('the', 'DT'),\n",
       "  ('house', 'NN')],\n",
       " [('Sammie', 'NNP'),\n",
       "  ('gave', 'VBD'),\n",
       "  ('me', 'PRP'),\n",
       "  ('her', 'PRP$'),\n",
       "  ('favorite', 'JJ'),\n",
       "  ('book', 'NN')])"
      ]
     },
     "execution_count": 19,
     "metadata": {},
     "output_type": "execute_result"
    }
   ],
   "source": [
    "sent = preprocess(ex)\n",
    "sent1 = preprocess(ex1)\n",
    "sent2 = preprocess(ex3)\n",
    "sent,sent1,sent2"
   ]
  },
  {
   "cell_type": "code",
   "execution_count": 7,
   "metadata": {},
   "outputs": [],
   "source": [
    "reg_rule = \"NP: {<DT>?<JJ>*<NN>}\""
   ]
  },
  {
   "cell_type": "code",
   "execution_count": 9,
   "metadata": {},
   "outputs": [
    {
     "name": "stdout",
     "output_type": "stream",
     "text": [
      "(S\n",
      "  (NP The/DT big/JJ yellow/JJ bird/NN)\n",
      "  flew/VBD\n",
      "  over/IN\n",
      "  (NP the/DT house/NN))\n"
     ]
    }
   ],
   "source": [
    "cp = nltk.RegexpParser(reg_rule)\n",
    "cs = cp.parse(sent)\n",
    "print(cs)"
   ]
  },
  {
   "cell_type": "code",
   "execution_count": 10,
   "metadata": {},
   "outputs": [],
   "source": [
    "reg_rule = \"NP: {<DT|PRP\\$>?<JJ>*<NN>}\""
   ]
  },
  {
   "cell_type": "code",
   "execution_count": 15,
   "metadata": {},
   "outputs": [
    {
     "name": "stdout",
     "output_type": "stream",
     "text": [
      "(S\n",
      "  (NP Her/PRP$ big/JJ yellow/JJ bird/NN)\n",
      "  flew/VBD\n",
      "  over/IN\n",
      "  (NP the/DT house/NN))\n"
     ]
    }
   ],
   "source": [
    "cp = nltk.RegexpParser(reg_rule)\n",
    "cs = cp.parse(sent1)\n",
    "print(cs)"
   ]
  },
  {
   "cell_type": "code",
   "execution_count": 20,
   "metadata": {},
   "outputs": [
    {
     "name": "stdout",
     "output_type": "stream",
     "text": [
      "(S (NP Sammie/NNP) gave/VBD me/PRP (NP her/PRP$ favorite/JJ book/NN))\n"
     ]
    }
   ],
   "source": [
    "reg_rule = r\"\"\" \n",
    "        NP: {<DT|PRP\\$>?<JJ>*<NN>}\n",
    "            {<NNP>+}\n",
    "\"\"\" \n",
    "cp = nltk.RegexpParser(reg_rule)\n",
    "cs = cp.parse(sent2)\n",
    "print(cs)"
   ]
  },
  {
   "cell_type": "code",
   "execution_count": null,
   "metadata": {},
   "outputs": [],
   "source": []
  }
 ],
 "metadata": {
  "kernelspec": {
   "display_name": "Python 3",
   "language": "python",
   "name": "python3"
  },
  "language_info": {
   "codemirror_mode": {
    "name": "ipython",
    "version": 3
   },
   "file_extension": ".py",
   "mimetype": "text/x-python",
   "name": "python",
   "nbconvert_exporter": "python",
   "pygments_lexer": "ipython3",
   "version": "3.6.3"
  }
 },
 "nbformat": 4,
 "nbformat_minor": 2
}
